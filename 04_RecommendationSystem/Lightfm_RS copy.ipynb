{
 "cells": [
  {
   "cell_type": "code",
   "execution_count": 1,
   "metadata": {},
   "outputs": [
    {
     "name": "stderr",
     "output_type": "stream",
     "text": [
      "c:\\Users\\Matias\\anaconda3\\lib\\site-packages\\pandas\\core\\computation\\expressions.py:21: UserWarning: Pandas requires version '2.8.4' or newer of 'numexpr' (version '2.8.3' currently installed).\n",
      "  from pandas.core.computation.check import NUMEXPR_INSTALLED\n",
      "c:\\Users\\Matias\\anaconda3\\lib\\site-packages\\pandas\\core\\arrays\\masked.py:60: UserWarning: Pandas requires version '1.3.6' or newer of 'bottleneck' (version '1.3.5' currently installed).\n",
      "  from pandas.core import (\n",
      "c:\\Users\\Matias\\anaconda3\\lib\\site-packages\\lightfm\\_lightfm_fast.py:9: UserWarning: LightFM was compiled without OpenMP support. Only a single thread will be used.\n",
      "  warnings.warn(\n"
     ]
    }
   ],
   "source": [
    "import numpy as np\n",
    "import scipy\n",
    "import pandas as pd\n",
    "import math\n",
    "import random\n",
    "import sklearn\n",
    "from sklearn.model_selection import train_test_split\n",
    "from sklearn.metrics.pairwise import cosine_similarity\n",
    "from sklearn.preprocessing import MinMaxScaler\n",
    "import matplotlib.pyplot as plt\n",
    "import zipfile\n",
    "from sklearn.metrics import mean_squared_error\n",
    "import pandas as pd\n",
    "import scipy.sparse as sp\n",
    "from lightfm import LightFM\n",
    "from scipy.sparse import coo_matrix, csr_matrix\n",
    "\n"
   ]
  },
  {
   "cell_type": "code",
   "execution_count": 2,
   "metadata": {},
   "outputs": [],
   "source": [
    "#pip install lightfm\n"
   ]
  },
  {
   "cell_type": "code",
   "execution_count": 3,
   "metadata": {},
   "outputs": [],
   "source": [
    "zip_path = '../00_Data_Bases/Cluster5_1_items.zip' \n",
    "csv_filename = 'Cluster5_1_items.csv'\n",
    "\n",
    "with zipfile.ZipFile(zip_path, 'r') as z:\n",
    "    with z.open(csv_filename) as f:\n",
    "        df = pd.read_csv(f)"
   ]
  },
  {
   "cell_type": "code",
   "execution_count": 4,
   "metadata": {},
   "outputs": [],
   "source": [
    "# Paso 2: Crear índices únicos para usuarios y productos\n",
    "df['user_index'] = df['user_id'].astype('category').cat.codes\n",
    "df['product_index'] = df['product_id'].astype('category').cat.codes\n"
   ]
  },
  {
   "cell_type": "code",
   "execution_count": 5,
   "metadata": {},
   "outputs": [],
   "source": [
    "# Paso 3: Crear la matriz de interacciones\n",
    "# Usamos la columna 'reordered' como indicador de interacción\n",
    "interaction_matrix = coo_matrix(\n",
    "    (df['reordered'], (df['user_index'], df['product_index'])),\n",
    "    shape=(df['user_index'].nunique(), df['product_index'].nunique())\n",
    ")"
   ]
  },
  {
   "cell_type": "code",
   "execution_count": 6,
   "metadata": {},
   "outputs": [],
   "source": [
    "# Paso 4: Crear características de usuarios (frecuencia por día)\n",
    "user_features = coo_matrix(\n",
    "    pd.get_dummies(df[['user_index', 'day']], columns=['day'])\n",
    "    .groupby('user_index').sum().iloc[:, 1:].values\n",
    ")\n"
   ]
  },
  {
   "cell_type": "code",
   "execution_count": 7,
   "metadata": {},
   "outputs": [],
   "source": [
    "# Paso 5: Crear características de ítems (categoría del producto)\n",
    "item_features = coo_matrix(\n",
    "    pd.get_dummies(df[['product_index', 'department']], columns=['department'])\n",
    "    .groupby('product_index').sum().iloc[:, 1:].values\n",
    ")\n"
   ]
  },
  {
   "cell_type": "code",
   "execution_count": 8,
   "metadata": {},
   "outputs": [],
   "source": [
    "# Paso 6: Convertir las matrices a csr_matrix para permitir indexación\n",
    "interaction_matrix_csr = interaction_matrix.tocsr()\n",
    "user_features_csr = user_features.tocsr()\n",
    "item_features_csr = item_features.tocsr()"
   ]
  },
  {
   "cell_type": "code",
   "execution_count": 9,
   "metadata": {},
   "outputs": [],
   "source": [
    "# Paso 7: Convertir las matrices a formato float32\n",
    "interaction_matrix_csr.data = interaction_matrix_csr.data.astype('float32')\n",
    "user_features_csr.data = user_features_csr.data.astype('float32')\n",
    "item_features_csr.data = item_features_csr.data.astype('float32')\n"
   ]
  },
  {
   "cell_type": "code",
   "execution_count": 10,
   "metadata": {},
   "outputs": [],
   "source": [
    "# Paso 8: Crear y configurar el modelo LightFM\n",
    "model = LightFM(loss='warp', no_components=30, learning_rate=0.05)"
   ]
  },
  {
   "cell_type": "code",
   "execution_count": 11,
   "metadata": {},
   "outputs": [],
   "source": [
    "# Paso 9: Reducir los datos a subconjuntos más pequeños (opcional, para prueba inicial)\n",
    "small_interaction_matrix = interaction_matrix_csr[:1000, :50]\n",
    "small_user_features = user_features_csr[:1000, :]\n",
    "small_item_features = item_features_csr[:50, :]\n"
   ]
  },
  {
   "cell_type": "markdown",
   "metadata": {},
   "source": [
    "FALLA EN EL PASO 10"
   ]
  },
  {
   "cell_type": "code",
   "execution_count": 12,
   "metadata": {},
   "outputs": [
    {
     "ename": "",
     "evalue": "",
     "output_type": "error",
     "traceback": [
      "\u001b[1;31mThe Kernel crashed while executing code in the current cell or a previous cell. \n",
      "\u001b[1;31mPlease review the code in the cell(s) to identify a possible cause of the failure. \n",
      "\u001b[1;31mClick <a href='https://aka.ms/vscodeJupyterKernelCrash'>here</a> for more info. \n",
      "\u001b[1;31mView Jupyter <a href='command:jupyter.viewOutput'>log</a> for further details."
     ]
    }
   ],
   "source": [
    "# Paso 10: Entrenar el modelo con el subconjunto reducido\n",
    "model.fit(\n",
    "    small_interaction_matrix,\n",
    "    user_features=small_user_features,\n",
    "    item_features=small_item_features,\n",
    "    epochs=1,  # Solo una época para pruebas\n",
    "    num_threads=1  # Usar un único hilo para evitar problemas de recursos\n",
    ")"
   ]
  },
  {
   "cell_type": "code",
   "execution_count": null,
   "metadata": {},
   "outputs": [],
   "source": [
    "\n",
    "\n",
    "\n",
    "# Paso 11: Hacer predicciones\n",
    "# Predicciones para un usuario específico (ID = 0 en este caso)\n",
    "user_id = 0\n",
    "scores = model.predict(\n",
    "    user_ids=user_id,\n",
    "    item_ids=np.arange(small_interaction_matrix.shape[1]),\n",
    "    user_features=small_user_features,\n",
    "    item_features=small_item_features\n",
    ")\n",
    "\n",
    "# Paso 12: Ordenar recomendaciones y mapear índices a nombres de productos\n",
    "recommended_items = np.argsort(-scores)\n",
    "product_mapping = df[['product_index', 'product_name']].drop_duplicates().set_index('product_index')['product_name']\n",
    "print(\"Recomendaciones para el usuario:\", product_mapping.iloc[recommended_items[:10]])\n"
   ]
  }
 ],
 "metadata": {
  "kernelspec": {
   "display_name": "base",
   "language": "python",
   "name": "python3"
  },
  "language_info": {
   "codemirror_mode": {
    "name": "ipython",
    "version": 3
   },
   "file_extension": ".py",
   "mimetype": "text/x-python",
   "name": "python",
   "nbconvert_exporter": "python",
   "pygments_lexer": "ipython3",
   "version": "3.9.13"
  }
 },
 "nbformat": 4,
 "nbformat_minor": 2
}
