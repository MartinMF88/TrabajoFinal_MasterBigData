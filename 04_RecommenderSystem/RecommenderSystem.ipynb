{
 "cells": [
  {
   "cell_type": "code",
   "execution_count": 91,
   "metadata": {},
   "outputs": [],
   "source": [
    "import numpy as np\n",
    "import scipy\n",
    "import pandas as pd\n",
    "import math\n",
    "import random\n",
    "import sklearn\n",
    "from sklearn.model_selection import train_test_split\n",
    "from sklearn.metrics.pairwise import cosine_similarity\n",
    "from sklearn.preprocessing import MinMaxScaler\n",
    "import matplotlib.pyplot as plt\n",
    "import zipfile\n",
    "from sklearn.metrics import mean_squared_error"
   ]
  },
  {
   "cell_type": "code",
   "execution_count": 92,
   "metadata": {},
   "outputs": [],
   "source": [
    "zip_path = '../00_Data_Bases/df_recommendersystem.zip' \n",
    "csv_filename = 'df_recommendersystem.csv'\n",
    "\n",
    "with zipfile.ZipFile(zip_path, 'r') as z:\n",
    "    with z.open(csv_filename) as f:\n",
    "        df = pd.read_csv(f)"
   ]
  },
  {
   "cell_type": "markdown",
   "metadata": {},
   "source": [
    "#### Matriz de interacción basada en clusters"
   ]
  },
  {
   "cell_type": "code",
   "execution_count": 93,
   "metadata": {},
   "outputs": [],
   "source": [
    "cluster_item_matrix = df.groupby('Customer_Type')[\n",
    "    [col for col in df.columns if 'department' in col]\n",
    "].sum()"
   ]
  },
  {
   "cell_type": "markdown",
   "metadata": {},
   "source": [
    "#### Normalización de la matriz"
   ]
  },
  {
   "cell_type": "code",
   "execution_count": 94,
   "metadata": {},
   "outputs": [],
   "source": [
    "scaler = MinMaxScaler()\n",
    "cluster_item_matrix_scaled = pd.DataFrame(\n",
    "    scaler.fit_transform(cluster_item_matrix),\n",
    "    index=cluster_item_matrix.index,\n",
    "    columns=cluster_item_matrix.columns\n",
    ")"
   ]
  },
  {
   "cell_type": "markdown",
   "metadata": {},
   "source": [
    "Agrupamos los datos por Customer_Type (que refiere a los 4 diferentes clusters).\n",
    "Sumamos las interacciones (número de productos comprados en cada departamento) para cada cluster.\n",
    "Normalizamos los valores de la matriz para que estén en un rango de 0 a 1. Esto asegura que las columnas (departamentos) tengan un impacto equilibrado en los cálculos posteriores.\n",
    "\n",
    "Este paso nos permite convertir el dataset en una matriz donde:\n",
    "\n",
    "Las filas representan clusters (Customer_Type).\n",
    "Las columnas representan departamentos.\n",
    "Los valores son interacciones normalizadas (0 a 1)."
   ]
  },
  {
   "cell_type": "markdown",
   "metadata": {},
   "source": [
    "#### Similitud entre departamentos"
   ]
  },
  {
   "cell_type": "code",
   "execution_count": 95,
   "metadata": {},
   "outputs": [],
   "source": [
    "item_similarity = cosine_similarity(cluster_item_matrix_scaled.T)\n",
    "item_similarity_df = pd.DataFrame(\n",
    "    item_similarity, \n",
    "    index=cluster_item_matrix_scaled.columns, \n",
    "    columns=cluster_item_matrix_scaled.columns\n",
    ")"
   ]
  },
  {
   "cell_type": "markdown",
   "metadata": {},
   "source": [
    "Calculamos la similitud entre las columnas (departamentos) usando cosine similarity.\n",
    "Convertimos la salida en un DataFrame llamado item_similarity_df para que sea más fácil de usar.\n",
    "\n",
    "Cosine Similarity: La similitud coseno mide cuán similares son dos vectores en un espacio multidimensional. En este caso, queremos saber qué departamentos tienen patrones de interacción similares según los clusters.\n",
    "\n",
    "Con este procedimiento obtenemos una matriz de similitud donde:\n",
    "\n",
    "Las filas y columnas representan departamentos.\n",
    "Los valores indican cuán similares son los departamentos (entre 0 y 1)."
   ]
  },
  {
   "cell_type": "markdown",
   "metadata": {},
   "source": [
    "#### Recomendaciones basadas en el cluster"
   ]
  },
  {
   "cell_type": "code",
   "execution_count": 96,
   "metadata": {},
   "outputs": [],
   "source": [
    "def recommend_items_for_cluster(cluster, cluster_item_matrix, item_similarity_df, top_n=5):\n",
    "    cluster_vector = cluster_item_matrix.loc[cluster]\n",
    "    scores = cluster_vector @ item_similarity_df\n",
    "    scores = scores.sort_values(ascending=False)\n",
    "    interacted_items = cluster_vector > 0\n",
    "    recommendations = scores[~interacted_items].head(top_n)\n",
    "\n",
    "    return recommendations.index.tolist()"
   ]
  },
  {
   "cell_type": "markdown",
   "metadata": {},
   "source": [
    "##### Explicación de la función generada:\n",
    "\n",
    "Input:\n",
    "\n",
    "cluster: El cluster para el que queremos generar recomendaciones.\n",
    "\n",
    "cluster_item_matrix: Matriz de interacción de clusters.\n",
    "\n",
    "item_similarity_df: Matriz de similitud entre departamentos.\n",
    "\n",
    "top_n: Número de ítems (departamentos) a recomendar.\n",
    "\n",
    "Cálculo de Puntuaciones:\n",
    "\n",
    "Multiplicamos el vector del cluster por la matriz de similitud (cluster_vector @ item_similarity_df). Esto genera una puntuación para cada departamento basada en su similitud con los departamentos que el cluster ya ha interactuado.\n",
    "\n",
    "Ordenar y Filtrar:\n",
    "\n",
    "Ordenamos los departamentos por relevancia (puntuación). Eliminamos los departamentos con los que el cluster ya ha interactuado.\n",
    "\n",
    "Recomendaciones:\n",
    "Seleccionamos los top_n departamentos con las puntuaciones más altas para finalmente obtener una lista de los mejores departamentos recomendados para un cluster específico."
   ]
  },
  {
   "cell_type": "markdown",
   "metadata": {},
   "source": [
    "#### Ejemplo de recomendación para un cluster específico"
   ]
  },
  {
   "cell_type": "code",
   "execution_count": 97,
   "metadata": {},
   "outputs": [
    {
     "name": "stdout",
     "output_type": "stream",
     "text": [
      "Recomendaciones para el cluster Básicos Frecuentes: ['department_babies', 'department_bakery', 'department_produce', 'department_pets', 'department_personal care']\n"
     ]
    }
   ],
   "source": [
    "cluster_example = cluster_item_matrix.index[0]\n",
    "recommendations = recommend_items_for_cluster(cluster_example, cluster_item_matrix_scaled, item_similarity_df)\n",
    "print(f\"Recomendaciones para el cluster {cluster_example}: {recommendations}\")"
   ]
  },
  {
   "cell_type": "markdown",
   "metadata": {},
   "source": [
    "Seleccionamos un cluster (cluster_example) de la matriz de interacción.\n",
    "\n",
    "Llamamos a la función recommend_items_for_cluster para obtener las recomendaciones para este cluster, esto genera una lista de los mejores departamentos recomendados para el cluster seleccionado."
   ]
  },
  {
   "cell_type": "markdown",
   "metadata": {},
   "source": [
    "### VALIDACION DE MODELO DE RECOMENDACION"
   ]
  },
  {
   "cell_type": "markdown",
   "metadata": {},
   "source": [
    "#### Se dividen datos en entrenamiento y prueba (a nivel de cluster)"
   ]
  },
  {
   "cell_type": "code",
   "execution_count": 98,
   "metadata": {},
   "outputs": [],
   "source": [
    "def train_test_split_matrix(matrix, test_size=0.2, random_state=42):\n",
    "    np.random.seed(random_state)\n",
    "    train = matrix.copy()\n",
    "    test = np.zeros_like(matrix)\n",
    "\n",
    "    for i, row in enumerate(matrix.values):\n",
    "        non_zero_indices = np.where(row > 0)[0]\n",
    "        if len(non_zero_indices) == 0:\n",
    "            continue\n",
    "        test_indices = np.random.choice(\n",
    "            non_zero_indices, size=int(len(non_zero_indices) * test_size), replace=False\n",
    "        )\n",
    "        train.values[i, test_indices] = 0\n",
    "        test[i, test_indices] = row[test_indices]\n",
    "\n",
    "    return pd.DataFrame(train, index=matrix.index, columns=matrix.columns), \\\n",
    "        pd.DataFrame(test, index=matrix.index, columns=matrix.columns)"
   ]
  },
  {
   "cell_type": "code",
   "execution_count": 99,
   "metadata": {},
   "outputs": [],
   "source": [
    "train_matrix, test_matrix = train_test_split_matrix(cluster_item_matrix_scaled)"
   ]
  },
  {
   "cell_type": "markdown",
   "metadata": {},
   "source": [
    "#### Resumen de las matrices"
   ]
  },
  {
   "cell_type": "code",
   "execution_count": 100,
   "metadata": {},
   "outputs": [
    {
     "name": "stdout",
     "output_type": "stream",
     "text": [
      "Matriz de entrenamiento:\n",
      "                    department_babies  department_bakery  department_beverages  department_breakfast  department_bulk  department_canned goods  department_dairy eggs  department_deli  department_dry goods pasta  department_frozen  department_household  department_international  department_meat seafood  department_missing  department_other  department_pantry  department_personal care  department_pets  department_produce  department_snacks\n",
      "Customer_Type                                                                                                                                                                                                                                                                                                                                                                                                                                            \n",
      "Básicos Frecuentes           0.000000           0.000000              0.000000              0.000000         0.000000                 0.000000               0.000000         0.000000                    0.000000           0.000000               0.00000                  0.000000                 0.000000            0.000000          0.000000           0.000000                  0.000000         0.000000            0.000000           0.000000\n",
      "Diversificados               0.000000           0.000000              1.000000              1.000000         1.000000                 1.000000               1.000000         1.000000                    1.000000           1.000000               1.00000                  1.000000                 1.000000            1.000000          1.000000           0.000000                  1.000000         0.000000            1.000000           1.000000\n",
      "Grandes Compras              0.030411           0.307990              0.330824              0.363586         0.135397                 0.000000               0.287112         0.348099                    0.435589           0.424897               0.48812                  0.403922                 0.374406            0.207559          0.299419           0.000000                  0.000000         0.463197            0.275302           0.000000\n",
      "Rutina Estable               0.000000           0.548398              0.000000              0.555556         0.767892                 0.477661               0.591358         0.000000                    0.482212           0.462811               0.00000                  0.478844                 0.486337            0.473414          0.392442           0.479703                  0.469745         0.508412            0.567056           0.599254\n",
      "\n",
      "Matriz de prueba:\n",
      "                    department_babies  department_bakery  department_beverages  department_breakfast  department_bulk  department_canned goods  department_dairy eggs  department_deli  department_dry goods pasta  department_frozen  department_household  department_international  department_meat seafood  department_missing  department_other  department_pantry  department_personal care  department_pets  department_produce  department_snacks\n",
      "Customer_Type                                                                                                                                                                                                                                                                                                                                                                                                                                            \n",
      "Básicos Frecuentes           0.000000                0.0              0.000000                   0.0              0.0                 0.000000                    0.0         0.000000                         0.0                0.0              0.000000                       0.0                      0.0                 0.0               0.0           0.000000                   0.00000              0.0                 0.0           0.000000\n",
      "Diversificados               1.000000                1.0              0.000000                   0.0              0.0                 0.000000                    0.0         0.000000                         0.0                0.0              0.000000                       0.0                      0.0                 0.0               0.0           1.000000                   0.00000              1.0                 0.0           0.000000\n",
      "Grandes Compras              0.000000                0.0              0.000000                   0.0              0.0                 0.434726                    0.0         0.000000                         0.0                0.0              0.000000                       0.0                      0.0                 0.0               0.0           0.374065                   0.43092              0.0                 0.0           0.325012\n",
      "Rutina Estable               0.752952                0.0              0.547373                   0.0              0.0                 0.000000                    0.0         0.544885                         0.0                0.0              0.453731                       0.0                      0.0                 0.0               0.0           0.000000                   0.00000              0.0                 0.0           0.000000\n"
     ]
    }
   ],
   "source": [
    "print(\"Matriz de entrenamiento:\")\n",
    "print(train_matrix.to_string(max_rows=10, max_cols=30))\n",
    "\n",
    "print(\"\\nMatriz de prueba:\")\n",
    "print(test_matrix.to_string(max_rows=10, max_cols=30))"
   ]
  },
  {
   "cell_type": "markdown",
   "metadata": {},
   "source": [
    "#### Metricas de Evaluación"
   ]
  },
  {
   "cell_type": "code",
   "execution_count": 101,
   "metadata": {},
   "outputs": [],
   "source": [
    "def calculate_ndcg(train_matrix, test_matrix, item_similarity_df, top_n=5):\n",
    "    ndcg_scores = []\n",
    "    for cluster in test_matrix.index:\n",
    "        recommendations = recommend_items_for_cluster(\n",
    "            cluster, train_matrix, item_similarity_df, top_n=top_n\n",
    "        )\n",
    "        actual = test_matrix.loc[cluster].sort_values(ascending=False).head(top_n)\n",
    "        dcg = sum((1 / np.log2(i + 2)) if item in actual.index else 0 \n",
    "                for i, item in enumerate(recommendations))\n",
    "        idcg = sum(1 / np.log2(i + 2) for i in range(len(actual)))\n",
    "        ndcg_scores.append(dcg / idcg if idcg > 0 else 0)\n",
    "    return np.mean(ndcg_scores)"
   ]
  },
  {
   "cell_type": "markdown",
   "metadata": {},
   "source": [
    "##### NDCG (Normalized Discounted Cumulative Gain)\n",
    "\n",
    "NDCG es una métrica muy utilizada en sistemas de recomendación y motores de búsqueda para evaluar la calidad de las recomendaciones o resultados proporcionados. Mide cuan relevantes son las recomendaciones en función de un determinado orden esperado."
   ]
  },
  {
   "cell_type": "markdown",
   "metadata": {},
   "source": [
    "#### Función *calculate_ndcg*\n",
    "Esta función calcula el NDCG (Normalized Discounted Cumulative Gain) para evaluar la calidad de las recomendaciones generadas por el sistema. NDCG mide qué tan relevantes son las recomendaciones y qué tan bien están ordenadas en comparación con el orden ideal.\n",
    "\n",
    "#### Pasos de la Función:\n",
    "Iteración por Clusters:\n",
    "Para cada cluster, genera recomendaciones (top_n) utilizando la matriz de similitud.\n",
    "\n",
    "Obtención de Relevancia Real:\n",
    "Extrae los top_n departamentos más relevantes de la matriz de prueba (interacciones reales).\n",
    "\n",
    "Cálculo de DCG (Discounted Cumulative Gain):\n",
    "Mide la ganancia acumulada de las recomendaciones, cargando con más peso a los elementos relevantes en las primeras posiciones.\n",
    "\n",
    "Cálculo de IDCG (Ideal DCG):\n",
    "Representa la ganancia máxima posible si las recomendaciones estuvieran ordenadas de manera perfecta según las interacciones reales.\n",
    "\n",
    "Cálculo de NDCG:\n",
    "Normaliza el DCG dividiéndolo por el IDCG para obtener un valor entre 0 y 1. Un valor más cercano a 1 indica mejores recomendaciones.\n",
    "\n",
    "Promedio Final:\n",
    "Devuelve el NDCG promedio para todos los clusters.\n",
    "\n",
    "#### Drivers para la elección de NDCG como métrica del modelo:\n",
    "Evalúa Relevancia: Aporta la información de si los departamentos recomendados son útiles para el usuario.\n",
    "Considera el Orden: Da más peso a los elementos relevantes en las primeras posiciones.\n",
    "Interpretable: Un NDCG cercano a 1 indica recomendaciones muy relevantes y bien ordenadas."
   ]
  },
  {
   "cell_type": "code",
   "execution_count": 102,
   "metadata": {},
   "outputs": [
    {
     "name": "stdout",
     "output_type": "stream",
     "text": [
      "NDCG Score: 0.9016\n"
     ]
    }
   ],
   "source": [
    "ndcg_score = calculate_ndcg(train_matrix, test_matrix, item_similarity_df)\n",
    "print(f\"NDCG Score: {ndcg_score:.4f}\")"
   ]
  },
  {
   "cell_type": "markdown",
   "metadata": {},
   "source": [
    "#### Interpretación del resultado\n",
    "\n",
    "El resultado del cálculo de NDCG Score es 0.9016, lo cual tiene un significado positivo en el contexto de un sistema de recomendación.\n",
    "\n",
    "Escala de NDCG:\n",
    "\n",
    "El NDCG está normalizado entre 0 y 1:\n",
    "Un valor de 1.0 indica que las recomendaciones son perfectamente relevantes y están ordenadas en el mejor orden posible.\n",
    "Un valor cercano a 0 indica que las recomendaciones son irrelevantes o están desordenadas.\n",
    "\n",
    "Resultado:\n",
    "\n",
    "Un NDCG de 0.9016 significa que el sistema de recomendación está funcionando muy bien, ya que las recomendaciones son muy relevantes y están casi que perfectamente ordenadas.\n",
    "Este puntaje indica que el modelo genera recomendaciones que están alineadas con las interacciones reales observadas en el conjunto de prueba.\n",
    "\n",
    "Relevancia y Orden:\n",
    "\n",
    "La mayoría de los departamentos recomendados están presentes en las interacciones reales.\n",
    "Los departamentos más relevantes tienden a aparecer en las primeras posiciones de las recomendaciones, lo que es ideal en sistemas de recomendación.\n",
    "\n",
    "Conclusión\n",
    "\n",
    "El sistema de recomendación está mostrando un rendimiento excelente según la métrica NDCG. Si bien no es un puntaje perfecto (1.0), el resultado 0.9016 indica que el modelo satisface las expectativas y que sus recomendaciones son útiles y bien ordenadas para los usuarios."
   ]
  }
 ],
 "metadata": {
  "kernelspec": {
   "display_name": "Python 3",
   "language": "python",
   "name": "python3"
  },
  "language_info": {
   "codemirror_mode": {
    "name": "ipython",
    "version": 3
   },
   "file_extension": ".py",
   "mimetype": "text/x-python",
   "name": "python",
   "nbconvert_exporter": "python",
   "pygments_lexer": "ipython3",
   "version": "3.11.5"
  }
 },
 "nbformat": 4,
 "nbformat_minor": 2
}
