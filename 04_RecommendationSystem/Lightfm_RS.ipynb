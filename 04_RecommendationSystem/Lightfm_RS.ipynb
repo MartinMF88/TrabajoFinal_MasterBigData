{
 "cells": [
  {
   "cell_type": "code",
   "execution_count": 1,
   "metadata": {},
   "outputs": [
    {
     "name": "stderr",
     "output_type": "stream",
     "text": [
      "c:\\Users\\Matias\\anaconda3\\lib\\site-packages\\pandas\\core\\computation\\expressions.py:21: UserWarning: Pandas requires version '2.8.4' or newer of 'numexpr' (version '2.8.3' currently installed).\n",
      "  from pandas.core.computation.check import NUMEXPR_INSTALLED\n",
      "c:\\Users\\Matias\\anaconda3\\lib\\site-packages\\pandas\\core\\arrays\\masked.py:60: UserWarning: Pandas requires version '1.3.6' or newer of 'bottleneck' (version '1.3.5' currently installed).\n",
      "  from pandas.core import (\n",
      "c:\\Users\\Matias\\anaconda3\\lib\\site-packages\\lightfm\\_lightfm_fast.py:9: UserWarning: LightFM was compiled without OpenMP support. Only a single thread will be used.\n",
      "  warnings.warn(\n"
     ]
    }
   ],
   "source": [
    "import numpy as np\n",
    "import scipy\n",
    "import pandas as pd\n",
    "import math\n",
    "import random\n",
    "import sklearn\n",
    "from sklearn.model_selection import train_test_split\n",
    "from sklearn.metrics.pairwise import cosine_similarity\n",
    "from sklearn.preprocessing import MinMaxScaler\n",
    "import matplotlib.pyplot as plt\n",
    "import zipfile\n",
    "from sklearn.metrics import mean_squared_error\n",
    "import pandas as pd\n",
    "import scipy.sparse as sp\n",
    "from lightfm import LightFM\n"
   ]
  },
  {
   "cell_type": "code",
   "execution_count": 2,
   "metadata": {},
   "outputs": [],
   "source": [
    "#pip install lightfm\n"
   ]
  },
  {
   "cell_type": "code",
   "execution_count": 3,
   "metadata": {},
   "outputs": [],
   "source": [
    "zip_path = '../00_Data_Bases/Cluster5_1_items.zip' \n",
    "csv_filename = 'Cluster5_1_items.csv'\n",
    "\n",
    "with zipfile.ZipFile(zip_path, 'r') as z:\n",
    "    with z.open(csv_filename) as f:\n",
    "        df = pd.read_csv(f)"
   ]
  },
  {
   "cell_type": "code",
   "execution_count": null,
   "metadata": {},
   "outputs": [],
   "source": []
  },
  {
   "cell_type": "code",
   "execution_count": 4,
   "metadata": {},
   "outputs": [],
   "source": [
    "# Crear índices únicos para usuarios y productos\n",
    "df['user_index'] = df['user_id'].astype('category').cat.codes\n",
    "df['product_index'] = df['product_id'].astype('category').cat.codes\n",
    "\n",
    "# Crear la matriz de interacciones (reordered como indicador de interacción)\n",
    "interaction_matrix = sp.coo_matrix(\n",
    "    (df['reordered'], (df['user_index'], df['product_index'])),\n",
    "    shape=(df['user_index'].nunique(), df['product_index'].nunique())\n",
    ")\n"
   ]
  },
  {
   "cell_type": "code",
   "execution_count": 5,
   "metadata": {},
   "outputs": [],
   "source": [
    "# Características de usuarios: Frecuencia por día\n",
    "user_features = sp.coo_matrix(\n",
    "    pd.get_dummies(df[['user_index', 'day']], columns=['day']).groupby('user_index').sum().iloc[:, 1:].values\n",
    ")\n",
    "\n",
    "# Características de ítems: Categoría del producto\n",
    "item_features = sp.coo_matrix(\n",
    "    pd.get_dummies(df[['product_index', 'department']], columns=['department']).groupby('product_index').sum().iloc[:, 1:].values\n",
    ")\n"
   ]
  },
  {
   "cell_type": "code",
   "execution_count": 6,
   "metadata": {},
   "outputs": [],
   "source": [
    "interaction_matrix.data = interaction_matrix.data.astype('float32')\n",
    "user_features = user_features.astype('float32')\n",
    "item_features = item_features.astype('float32')\n"
   ]
  },
  {
   "cell_type": "code",
   "execution_count": 6,
   "metadata": {},
   "outputs": [
    {
     "name": "stdout",
     "output_type": "stream",
     "text": [
      "Interacción - Valores no finitos: False\n",
      "Características de usuarios - Valores no finitos: False\n",
      "Características de ítems - Valores no finitos: False\n"
     ]
    }
   ],
   "source": [
    "# Verificar la matriz de interacciones\n",
    "print(\"Interacción - Valores no finitos:\", not np.isfinite(interaction_matrix.data).all())\n",
    "\n",
    "# Verificar user_features\n",
    "print(\"Características de usuarios - Valores no finitos:\", not np.isfinite(user_features.data).all())\n",
    "\n",
    "# Verificar item_features\n",
    "print(\"Características de ítems - Valores no finitos:\", not np.isfinite(item_features.data).all())\n"
   ]
  },
  {
   "cell_type": "code",
   "execution_count": 7,
   "metadata": {},
   "outputs": [
    {
     "ename": "TypeError",
     "evalue": "'coo_matrix' object is not subscriptable",
     "output_type": "error",
     "traceback": [
      "\u001b[1;31m---------------------------------------------------------------------------\u001b[0m",
      "\u001b[1;31mTypeError\u001b[0m                                 Traceback (most recent call last)",
      "\u001b[1;32m~\\AppData\\Local\\Temp\\ipykernel_26752\\3298953506.py\u001b[0m in \u001b[0;36m<module>\u001b[1;34m\u001b[0m\n\u001b[0;32m      1\u001b[0m \u001b[0mmodel\u001b[0m \u001b[1;33m=\u001b[0m \u001b[0mLightFM\u001b[0m\u001b[1;33m(\u001b[0m\u001b[0mloss\u001b[0m\u001b[1;33m=\u001b[0m\u001b[1;34m'warp'\u001b[0m\u001b[1;33m,\u001b[0m \u001b[0mno_components\u001b[0m\u001b[1;33m=\u001b[0m\u001b[1;36m30\u001b[0m\u001b[1;33m,\u001b[0m \u001b[0mlearning_rate\u001b[0m\u001b[1;33m=\u001b[0m\u001b[1;36m0.05\u001b[0m\u001b[1;33m)\u001b[0m\u001b[1;33m\u001b[0m\u001b[1;33m\u001b[0m\u001b[0m\n\u001b[0;32m      2\u001b[0m \u001b[1;31m# Reducir la matriz de interacciones\u001b[0m\u001b[1;33m\u001b[0m\u001b[1;33m\u001b[0m\u001b[0m\n\u001b[1;32m----> 3\u001b[1;33m \u001b[0msmall_interaction_matrix\u001b[0m \u001b[1;33m=\u001b[0m \u001b[0minteraction_matrix\u001b[0m\u001b[1;33m[\u001b[0m\u001b[1;33m:\u001b[0m\u001b[1;36m1000\u001b[0m\u001b[1;33m,\u001b[0m \u001b[1;33m:\u001b[0m\u001b[1;36m50\u001b[0m\u001b[1;33m]\u001b[0m\u001b[1;33m\u001b[0m\u001b[1;33m\u001b[0m\u001b[0m\n\u001b[0m\u001b[0;32m      4\u001b[0m \u001b[1;33m\u001b[0m\u001b[0m\n\u001b[0;32m      5\u001b[0m \u001b[1;31m# Reducir las matrices de características\u001b[0m\u001b[1;33m\u001b[0m\u001b[1;33m\u001b[0m\u001b[0m\n",
      "\u001b[1;31mTypeError\u001b[0m: 'coo_matrix' object is not subscriptable"
     ]
    }
   ],
   "source": [
    "model = LightFM(loss='warp', no_components=30, learning_rate=0.05)\n",
    "# Reducir la matriz de interacciones\n",
    "small_interaction_matrix = interaction_matrix[:1000, :50]\n",
    "\n",
    "# Reducir las matrices de características\n",
    "small_user_features = user_features[:1000, :]\n",
    "small_item_features = item_features[:50, :]\n",
    "\n",
    "# Entrenar con el subconjunto\n",
    "model.fit(\n",
    "    small_interaction_matrix,\n",
    "    user_features=small_user_features,\n",
    "    item_features=small_item_features,\n",
    "    epochs=1,\n",
    "    num_threads=1\n",
    ")\n"
   ]
  },
  {
   "cell_type": "code",
   "execution_count": 7,
   "metadata": {},
   "outputs": [
    {
     "ename": "",
     "evalue": "",
     "output_type": "error",
     "traceback": [
      "\u001b[1;31mThe Kernel crashed while executing code in the current cell or a previous cell. \n",
      "\u001b[1;31mPlease review the code in the cell(s) to identify a possible cause of the failure. \n",
      "\u001b[1;31mClick <a href='https://aka.ms/vscodeJupyterKernelCrash'>here</a> for more info. \n",
      "\u001b[1;31mView Jupyter <a href='command:jupyter.viewOutput'>log</a> for further details."
     ]
    }
   ],
   "source": [
    "model = LightFM(loss='warp', no_components=30, learning_rate=0.05)\n",
    "\n",
    "# Entrenamiento\n",
    "model.fit(interaction_matrix, \n",
    "          user_features=user_features, \n",
    "          item_features=item_features, \n",
    "          epochs=1, num_threads=1)\n"
   ]
  },
  {
   "cell_type": "code",
   "execution_count": null,
   "metadata": {},
   "outputs": [],
   "source": [
    "print(interaction_matrix.shape)  # Dimensiones\n",
    "print(interaction_matrix.nnz)    # Número de elementos no nulos\n"
   ]
  },
  {
   "cell_type": "code",
   "execution_count": null,
   "metadata": {},
   "outputs": [],
   "source": [
    "print(user_features.shape)  # Debería ser (n_usuarios, n_features_usuario)\n",
    "print(item_features.shape)  # Debería ser (n_items, n_features_item)\n"
   ]
  }
 ],
 "metadata": {
  "kernelspec": {
   "display_name": "base",
   "language": "python",
   "name": "python3"
  },
  "language_info": {
   "codemirror_mode": {
    "name": "ipython",
    "version": 3
   },
   "file_extension": ".py",
   "mimetype": "text/x-python",
   "name": "python",
   "nbconvert_exporter": "python",
   "pygments_lexer": "ipython3",
   "version": "3.9.13"
  }
 },
 "nbformat": 4,
 "nbformat_minor": 2
}
