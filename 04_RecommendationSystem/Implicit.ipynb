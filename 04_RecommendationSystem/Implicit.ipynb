{
 "cells": [
  {
   "cell_type": "code",
   "execution_count": 1,
   "metadata": {},
   "outputs": [
    {
     "name": "stderr",
     "output_type": "stream",
     "text": [
      "c:\\Users\\Matias\\anaconda3\\lib\\site-packages\\pandas\\core\\computation\\expressions.py:21: UserWarning: Pandas requires version '2.8.4' or newer of 'numexpr' (version '2.8.3' currently installed).\n",
      "  from pandas.core.computation.check import NUMEXPR_INSTALLED\n",
      "c:\\Users\\Matias\\anaconda3\\lib\\site-packages\\pandas\\core\\arrays\\masked.py:60: UserWarning: Pandas requires version '1.3.6' or newer of 'bottleneck' (version '1.3.5' currently installed).\n",
      "  from pandas.core import (\n"
     ]
    }
   ],
   "source": [
    "import numpy as np\n",
    "import pandas as pd\n",
    "import zipfile\n"
   ]
  },
  {
   "cell_type": "code",
   "execution_count": 1,
   "metadata": {},
   "outputs": [
    {
     "name": "stdout",
     "output_type": "stream",
     "text": [
      "Collecting implicit\n",
      "  Downloading implicit-0.7.2-cp39-cp39-win_amd64.whl (752 kB)\n",
      "     ------------------------------------ 752.1/752.1 kB 312.4 kB/s eta 0:00:00\n",
      "Requirement already satisfied: threadpoolctl in c:\\users\\matias\\anaconda3\\lib\\site-packages (from implicit) (3.5.0)\n",
      "Requirement already satisfied: scipy>=0.16 in c:\\users\\matias\\anaconda3\\lib\\site-packages (from implicit) (1.13.1)\n",
      "Requirement already satisfied: numpy>=1.17.0 in c:\\users\\matias\\anaconda3\\lib\\site-packages (from implicit) (1.24.3)\n",
      "Requirement already satisfied: tqdm>=4.27 in c:\\users\\matias\\anaconda3\\lib\\site-packages (from implicit) (4.66.6)\n",
      "Requirement already satisfied: colorama in c:\\users\\matias\\anaconda3\\lib\\site-packages (from tqdm>=4.27->implicit) (0.4.6)\n",
      "Installing collected packages: implicit\n",
      "Successfully installed implicit-0.7.2\n",
      "Note: you may need to restart the kernel to use updated packages.\n"
     ]
    },
    {
     "name": "stderr",
     "output_type": "stream",
     "text": [
      "WARNING: Ignoring invalid distribution -umpy (c:\\users\\matias\\anaconda3\\lib\\site-packages)\n",
      "WARNING: Ignoring invalid distribution -atplotlib (c:\\users\\matias\\anaconda3\\lib\\site-packages)\n",
      "WARNING: Ignoring invalid distribution -umpy (c:\\users\\matias\\anaconda3\\lib\\site-packages)\n",
      "WARNING: Ignoring invalid distribution -atplotlib (c:\\users\\matias\\anaconda3\\lib\\site-packages)\n",
      "WARNING: Ignoring invalid distribution -umpy (c:\\users\\matias\\anaconda3\\lib\\site-packages)\n",
      "WARNING: Ignoring invalid distribution -atplotlib (c:\\users\\matias\\anaconda3\\lib\\site-packages)\n",
      "WARNING: Ignoring invalid distribution -umpy (c:\\users\\matias\\anaconda3\\lib\\site-packages)\n",
      "WARNING: Ignoring invalid distribution -atplotlib (c:\\users\\matias\\anaconda3\\lib\\site-packages)\n",
      "WARNING: Ignoring invalid distribution -umpy (c:\\users\\matias\\anaconda3\\lib\\site-packages)\n",
      "WARNING: Ignoring invalid distribution -atplotlib (c:\\users\\matias\\anaconda3\\lib\\site-packages)\n",
      "WARNING: Ignoring invalid distribution -umpy (c:\\users\\matias\\anaconda3\\lib\\site-packages)\n",
      "WARNING: Ignoring invalid distribution -atplotlib (c:\\users\\matias\\anaconda3\\lib\\site-packages)\n",
      "WARNING: Ignoring invalid distribution -umpy (c:\\users\\matias\\anaconda3\\lib\\site-packages)\n",
      "WARNING: Ignoring invalid distribution -atplotlib (c:\\users\\matias\\anaconda3\\lib\\site-packages)\n"
     ]
    }
   ],
   "source": [
    "#pip install implicit"
   ]
  },
  {
   "cell_type": "code",
   "execution_count": 2,
   "metadata": {},
   "outputs": [],
   "source": [
    "zip_path = '../00_Data_Bases/Cluster5_1_items.zip' \n",
    "csv_filename = 'Cluster5_1_items.csv'\n",
    "\n",
    "with zipfile.ZipFile(zip_path, 'r') as z:\n",
    "    with z.open(csv_filename) as f:\n",
    "        df = pd.read_csv(f)"
   ]
  },
  {
   "cell_type": "markdown",
   "metadata": {},
   "source": [
    "### Matriz de Interaccion\n"
   ]
  },
  {
   "cell_type": "code",
   "execution_count": 3,
   "metadata": {},
   "outputs": [],
   "source": [
    "df[\"score\"] = df[\"reordered\"] * 2 + 1 + (df[\"days_since_prior_order\"] <= 7).astype(int)\n"
   ]
  },
  {
   "cell_type": "code",
   "execution_count": 4,
   "metadata": {},
   "outputs": [],
   "source": [
    "import numpy as np\n",
    "import pandas as pd\n",
    "from scipy.sparse import csr_matrix\n",
    "from implicit.als import AlternatingLeastSquares\n",
    "\n",
    "# Crear mapeo de IDs a índices numéricos\n",
    "user_map = {u: i for i, u in enumerate(df[\"user_id\"].unique())}\n",
    "item_map = {i: j for j, i in enumerate(df[\"product_id\"].unique())}\n",
    "\n",
    "df[\"user_index\"] = df[\"user_id\"].map(user_map)\n",
    "df[\"item_index\"] = df[\"product_id\"].map(item_map)\n",
    "\n",
    "# Crear la matriz dispersa usuario-producto\n",
    "user_item_matrix = csr_matrix((df[\"score\"], (df[\"user_index\"], df[\"item_index\"])))\n",
    "\n"
   ]
  },
  {
   "cell_type": "code",
   "execution_count": 5,
   "metadata": {},
   "outputs": [
    {
     "name": "stdout",
     "output_type": "stream",
     "text": [
      "Índice máximo de usuario: 37972, Total usuarios en matriz: 37973\n",
      "Índice máximo de producto: 133, Total productos en matriz: 134\n"
     ]
    }
   ],
   "source": [
    "# Revisar si los índices están dentro del rango esperado\n",
    "max_user_idx = max(user_map.values())\n",
    "max_item_idx = max(item_map.values())\n",
    "\n",
    "print(f\"Índice máximo de usuario: {max_user_idx}, Total usuarios en matriz: {user_item_matrix.shape[0]}\")\n",
    "print(f\"Índice máximo de producto: {max_item_idx}, Total productos en matriz: {user_item_matrix.shape[1]}\")\n"
   ]
  },
  {
   "cell_type": "code",
   "execution_count": 8,
   "metadata": {},
   "outputs": [
    {
     "name": "stderr",
     "output_type": "stream",
     "text": [
      "c:\\Users\\Matias\\anaconda3\\lib\\site-packages\\implicit\\utils.py:164: ParameterWarning: Method expects CSR input, and was passed csc_matrix instead. Converting to CSR took 0.0029976367950439453 seconds\n",
      "  warnings.warn(\n"
     ]
    },
    {
     "data": {
      "application/vnd.jupyter.widget-view+json": {
       "model_id": "26bd659217d54825946c4aa748f915f9",
       "version_major": 2,
       "version_minor": 0
      },
      "text/plain": [
       "  0%|          | 0/500 [00:00<?, ?it/s]"
      ]
     },
     "metadata": {},
     "output_type": "display_data"
    }
   ],
   "source": [
    "# Configurar y entrenar el modelo ALS\n",
    "model = AlternatingLeastSquares(factors=200, regularization=0.1, iterations=500)\n",
    "model.fit(user_item_matrix.T)"
   ]
  },
  {
   "cell_type": "code",
   "execution_count": 9,
   "metadata": {},
   "outputs": [
    {
     "name": "stdout",
     "output_type": "stream",
     "text": [
      "El usuario 177197 no tiene datos suficientes en el modelo.\n"
     ]
    }
   ],
   "source": [
    "# Seleccionar un usuario con más compras (el segundo más frecuente en este caso)\n",
    "user_id = df[\"user_id\"].value_counts().index[1]  \n",
    "user_idx = user_map.get(user_id)  # Convertir user_id a user_index\n",
    "\n",
    "# Crear un diccionario inverso para mapear índices internos a product_id\n",
    "reverse_item_map = {v: k for k, v in item_map.items()}\n",
    "\n",
    "# Verificar que el usuario existe en el modelo y tiene datos en la matriz\n",
    "if user_idx is not None and user_idx < model.user_factors.shape[0]:\n",
    "    if user_item_matrix[user_idx].nnz > 0:  # Verifica que el usuario tiene interacciones\n",
    "        # Generar recomendaciones\n",
    "        item_indices, scores = model.recommend(user_idx, user_item_matrix[user_idx], N=5)\n",
    "\n",
    "        # Convertir índices internos a product_id\n",
    "        recommended_items = [reverse_item_map[i] for i in item_indices if i in reverse_item_map]\n",
    "\n",
    "        print(f\"Recomendaciones para el usuario {user_id}: {recommended_items}\")\n",
    "    else:\n",
    "        print(f\"El usuario {user_id} no tiene suficientes interacciones en la matriz.\")\n",
    "else:\n",
    "    print(f\"El usuario {user_id} no tiene datos suficientes en el modelo.\")\n"
   ]
  }
 ],
 "metadata": {
  "kernelspec": {
   "display_name": "base",
   "language": "python",
   "name": "python3"
  },
  "language_info": {
   "codemirror_mode": {
    "name": "ipython",
    "version": 3
   },
   "file_extension": ".py",
   "mimetype": "text/x-python",
   "name": "python",
   "nbconvert_exporter": "python",
   "pygments_lexer": "ipython3",
   "version": "3.9.13"
  }
 },
 "nbformat": 4,
 "nbformat_minor": 2
}
