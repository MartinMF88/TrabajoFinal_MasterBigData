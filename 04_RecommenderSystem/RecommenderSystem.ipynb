{
 "cells": [
  {
   "cell_type": "code",
   "execution_count": 34,
   "metadata": {},
   "outputs": [],
   "source": [
    "import numpy as np\n",
    "import scipy\n",
    "import pandas as pd\n",
    "import math\n",
    "import random\n",
    "import sklearn\n",
    "from sklearn.model_selection import train_test_split\n",
    "from sklearn.metrics.pairwise import cosine_similarity\n",
    "from sklearn.preprocessing import MinMaxScaler\n",
    "import matplotlib.pyplot as plt\n",
    "import zipfile\n",
    "from sklearn.metrics import mean_squared_error"
   ]
  },
  {
   "cell_type": "code",
   "execution_count": 14,
   "metadata": {},
   "outputs": [],
   "source": [
    "zip_path = '../00_Data_Bases/df_recommendersystem.zip' \n",
    "csv_filename = 'df_recommendersystem.csv'\n",
    "\n",
    "with zipfile.ZipFile(zip_path, 'r') as z:\n",
    "    with z.open(csv_filename) as f:\n",
    "        df = pd.read_csv(f)"
   ]
  },
  {
   "cell_type": "markdown",
   "metadata": {},
   "source": [
    "#### Matriz de interacción basada en clusters"
   ]
  },
  {
   "cell_type": "code",
   "execution_count": 15,
   "metadata": {},
   "outputs": [],
   "source": [
    "cluster_item_matrix = df.groupby('Customer_Type')[\n",
    "    [col for col in df.columns if 'department' in col]\n",
    "].sum()"
   ]
  },
  {
   "cell_type": "markdown",
   "metadata": {},
   "source": [
    "#### Normalización de la matriz"
   ]
  },
  {
   "cell_type": "code",
   "execution_count": 16,
   "metadata": {},
   "outputs": [],
   "source": [
    "scaler = MinMaxScaler()\n",
    "cluster_item_matrix_scaled = pd.DataFrame(\n",
    "    scaler.fit_transform(cluster_item_matrix),\n",
    "    index=cluster_item_matrix.index,\n",
    "    columns=cluster_item_matrix.columns\n",
    ")"
   ]
  },
  {
   "cell_type": "markdown",
   "metadata": {},
   "source": [
    "Agrupamos los datos por Customer_Type (que refiere a los 4 diferentes clusters).\n",
    "Sumamos las interacciones (número de productos comprados en cada departamento) para cada cluster.\n",
    "Normalizamos los valores de la matriz para que estén en un rango de 0 a 1. Esto asegura que las columnas (departamentos) tengan un impacto equilibrado en los cálculos posteriores.\n",
    "\n",
    "Este paso nos permite convertir el dataset en una matriz donde:\n",
    "\n",
    "Las filas representan clusters (Customer_Type).\n",
    "Las columnas representan departamentos.\n",
    "Los valores son interacciones normalizadas (0 a 1)."
   ]
  },
  {
   "cell_type": "markdown",
   "metadata": {},
   "source": [
    "#### Similitud entre departamentos"
   ]
  },
  {
   "cell_type": "code",
   "execution_count": 17,
   "metadata": {},
   "outputs": [],
   "source": [
    "item_similarity = cosine_similarity(cluster_item_matrix_scaled.T)\n",
    "item_similarity_df = pd.DataFrame(\n",
    "    item_similarity, \n",
    "    index=cluster_item_matrix_scaled.columns, \n",
    "    columns=cluster_item_matrix_scaled.columns\n",
    ")"
   ]
  },
  {
   "cell_type": "markdown",
   "metadata": {},
   "source": [
    "Calculamos la similitud entre las columnas (departamentos) usando cosine similarity.\n",
    "Convertimos la salida en un DataFrame llamado item_similarity_df para que sea más fácil de usar.\n",
    "\n",
    "Cosine Similarity: La similitud coseno mide cuán similares son dos vectores en un espacio multidimensional. En este caso, queremos saber qué departamentos tienen patrones de interacción similares según los clusters.\n",
    "\n",
    "Con este procedimiento obtenemos una matriz de similitud donde:\n",
    "\n",
    "Las filas y columnas representan departamentos.\n",
    "Los valores indican cuán similares son los departamentos (entre 0 y 1)."
   ]
  },
  {
   "cell_type": "markdown",
   "metadata": {},
   "source": [
    "#### Recomendaciones basadas en el cluster"
   ]
  },
  {
   "cell_type": "code",
   "execution_count": null,
   "metadata": {},
   "outputs": [],
   "source": [
    "def recommend_items_for_cluster(cluster, cluster_item_matrix, item_similarity_df, top_n=5):\n",
    "    cluster_vector = cluster_item_matrix.loc[cluster]\n",
    "    scores = cluster_vector @ item_similarity_df\n",
    "    scores = scores.sort_values(ascending=False)\n",
    "    interacted_items = cluster_vector > 0\n",
    "    recommendations = scores[~interacted_items].head(top_n)\n",
    "\n",
    "    return recommendations.index.tolist()"
   ]
  },
  {
   "cell_type": "markdown",
   "metadata": {},
   "source": [
    "##### Explicación de la función generada:\n",
    "\n",
    "Input:\n",
    "\n",
    "cluster: El cluster para el que queremos generar recomendaciones.\n",
    "\n",
    "cluster_item_matrix: Matriz de interacción de clusters.\n",
    "\n",
    "item_similarity_df: Matriz de similitud entre departamentos.\n",
    "\n",
    "top_n: Número de ítems (departamentos) a recomendar.\n",
    "\n",
    "Cálculo de Puntuaciones:\n",
    "\n",
    "Multiplicamos el vector del cluster por la matriz de similitud (cluster_vector @ item_similarity_df). Esto genera una puntuación para cada departamento basada en su similitud con los departamentos que el cluster ya ha interactuado.\n",
    "\n",
    "Ordenar y Filtrar:\n",
    "\n",
    "Ordenamos los departamentos por relevancia (puntuación). Eliminamos los departamentos con los que el cluster ya ha interactuado.\n",
    "\n",
    "Recomendaciones:\n",
    "Seleccionamos los top_n departamentos con las puntuaciones más altas para finalmente obtener una lista de los mejores departamentos recomendados para un cluster específico."
   ]
  },
  {
   "cell_type": "markdown",
   "metadata": {},
   "source": [
    "#### Ejemplo de recomendación para un cluster específico"
   ]
  },
  {
   "cell_type": "code",
   "execution_count": null,
   "metadata": {},
   "outputs": [
    {
     "name": "stdout",
     "output_type": "stream",
     "text": [
      "Recomendaciones para el cluster Básicos Frecuentes: ['department_babies', 'department_bakery', 'department_produce', 'department_pets', 'department_personal care']\n"
     ]
    }
   ],
   "source": [
    "cluster_example = cluster_item_matrix.index[0]\n",
    "recommendations = recommend_items_for_cluster(cluster_example, cluster_item_matrix_scaled, item_similarity_df)\n",
    "print(f\"Recomendaciones para el cluster {cluster_example}: {recommendations}\")"
   ]
  },
  {
   "cell_type": "markdown",
   "metadata": {},
   "source": [
    "Seleccionamos un cluster (cluster_example) de la matriz de interacción.\n",
    "\n",
    "Llamamos a la función recommend_items_for_cluster para obtener las recomendaciones para este cluster, esto genera una lista de los mejores departamentos recomendados para el cluster seleccionado."
   ]
  },
  {
   "cell_type": "markdown",
   "metadata": {},
   "source": [
    "### VALIDACION DE MODELO DE RECOMENDACION"
   ]
  },
  {
   "cell_type": "markdown",
   "metadata": {},
   "source": [
    "#### Se dividen datos en entrenamiento y prueba (a nivel de cluster)"
   ]
  },
  {
   "cell_type": "code",
   "execution_count": null,
   "metadata": {},
   "outputs": [],
   "source": [
    "def train_test_split_matrix(matrix, test_size=0.2, random_state=42):\n",
    "    np.random.seed(random_state)\n",
    "\n",
    "    train = matrix.copy()\n",
    "    test = matrix.copy()\n",
    "    for cluster in matrix.index:\n",
    "        interactions = matrix.loc[cluster]\n",
    "        non_zero_indices = interactions[interactions > 0].index\n",
    "        test_indices = np.random.choice(\n",
    "            non_zero_indices, \n",
    "            size=int(test_size * len(non_zero_indices)), \n",
    "            replace=False\n",
    "        )\n",
    "        train.loc[cluster, test_indices] = 0\n",
    "        test.loc[cluster, ~test.columns.isin(test_indices)] = 0\n",
    "\n",
    "    return train, test"
   ]
  },
  {
   "cell_type": "code",
   "execution_count": 30,
   "metadata": {},
   "outputs": [],
   "source": [
    "train_matrix, test_matrix = train_test_split_matrix(cluster_item_matrix_scaled)"
   ]
  },
  {
   "cell_type": "markdown",
   "metadata": {},
   "source": [
    "#### Resumen de las matrices"
   ]
  },
  {
   "cell_type": "code",
   "execution_count": null,
   "metadata": {},
   "outputs": [
    {
     "name": "stdout",
     "output_type": "stream",
     "text": [
      "Matriz de entrenamiento:\n",
      "                    department_babies  department_bakery  department_beverages  department_breakfast  department_bulk  department_canned goods  department_dairy eggs  department_deli  department_dry goods pasta  department_frozen  department_household  department_international  department_meat seafood  department_missing  department_other  department_pantry  department_personal care  department_pets  department_produce  department_snacks\n",
      "Customer_Type                                                                                                                                                                                                                                                                                                                                                                                                                                            \n",
      "Básicos Frecuentes           0.000000           0.000000              0.000000              0.000000         0.000000                 0.000000               0.000000         0.000000                    0.000000           0.000000               0.00000                  0.000000                 0.000000            0.000000          0.000000           0.000000                  0.000000         0.000000            0.000000           0.000000\n",
      "Diversificados               0.000000           0.000000              1.000000              1.000000         1.000000                 1.000000               1.000000         1.000000                    1.000000           1.000000               1.00000                  1.000000                 1.000000            1.000000          1.000000           0.000000                  1.000000         0.000000            1.000000           1.000000\n",
      "Grandes Compras              0.030411           0.307990              0.330824              0.363586         0.135397                 0.000000               0.287112         0.348099                    0.435589           0.424897               0.48812                  0.403922                 0.374406            0.207559          0.299419           0.000000                  0.000000         0.463197            0.275302           0.000000\n",
      "Rutina Estable               0.000000           0.548398              0.000000              0.555556         0.767892                 0.477661               0.591358         0.000000                    0.482212           0.462811               0.00000                  0.478844                 0.486337            0.473414          0.392442           0.479703                  0.469745         0.508412            0.567056           0.599254\n",
      "\n",
      "Matriz de prueba:\n",
      "                    department_babies  department_bakery  department_beverages  department_breakfast  department_bulk  department_canned goods  department_dairy eggs  department_deli  department_dry goods pasta  department_frozen  department_household  department_international  department_meat seafood  department_missing  department_other  department_pantry  department_personal care  department_pets  department_produce  department_snacks\n",
      "Customer_Type                                                                                                                                                                                                                                                                                                                                                                                                                                            \n",
      "Básicos Frecuentes           0.000000                0.0              0.000000                   0.0              0.0                 0.000000                    0.0         0.000000                         0.0                0.0              0.000000                       0.0                      0.0                 0.0               0.0           0.000000                   0.00000              0.0                 0.0           0.000000\n",
      "Diversificados               1.000000                1.0              0.000000                   0.0              0.0                 0.000000                    0.0         0.000000                         0.0                0.0              0.000000                       0.0                      0.0                 0.0               0.0           1.000000                   0.00000              1.0                 0.0           0.000000\n",
      "Grandes Compras              0.000000                0.0              0.000000                   0.0              0.0                 0.434726                    0.0         0.000000                         0.0                0.0              0.000000                       0.0                      0.0                 0.0               0.0           0.374065                   0.43092              0.0                 0.0           0.325012\n",
      "Rutina Estable               0.752952                0.0              0.547373                   0.0              0.0                 0.000000                    0.0         0.544885                         0.0                0.0              0.453731                       0.0                      0.0                 0.0               0.0           0.000000                   0.00000              0.0                 0.0           0.000000\n"
     ]
    }
   ],
   "source": [
    "print(\"Matriz de entrenamiento:\")\n",
    "print(train_matrix.to_string(max_rows=10, max_cols=30))\n",
    "\n",
    "print(\"\\nMatriz de prueba:\")\n",
    "print(test_matrix.to_string(max_rows=10, max_cols=30))"
   ]
  },
  {
   "cell_type": "markdown",
   "metadata": {},
   "source": [
    "#### Filtrar datos de prueba"
   ]
  },
  {
   "cell_type": "code",
   "execution_count": 35,
   "metadata": {},
   "outputs": [],
   "source": [
    "def filter_test_data(predicted, test_data):\n",
    "    test_indices = test_data > 0\n",
    "    return predicted[test_indices], test_data[test_indices]"
   ]
  },
  {
   "cell_type": "markdown",
   "metadata": {},
   "source": [
    "#### Predicción y cálculo de RMSE"
   ]
  },
  {
   "cell_type": "code",
   "execution_count": null,
   "metadata": {},
   "outputs": [],
   "source": [
    "predicted_matrix = train_matrix @ item_similarity_df\n",
    "predicted_values, actual_values = filter_test_data(predicted_matrix, test_matrix)\n",
    "rmse = np.sqrt(mean_squared_error(actual_values, predicted_values))\n",
    "print(f\"RMSE del modelo: {rmse:.4f}\")"
   ]
  }
 ],
 "metadata": {
  "kernelspec": {
   "display_name": "Python 3",
   "language": "python",
   "name": "python3"
  },
  "language_info": {
   "codemirror_mode": {
    "name": "ipython",
    "version": 3
   },
   "file_extension": ".py",
   "mimetype": "text/x-python",
   "name": "python",
   "nbconvert_exporter": "python",
   "pygments_lexer": "ipython3",
   "version": "3.11.5"
  }
 },
 "nbformat": 4,
 "nbformat_minor": 2
}
