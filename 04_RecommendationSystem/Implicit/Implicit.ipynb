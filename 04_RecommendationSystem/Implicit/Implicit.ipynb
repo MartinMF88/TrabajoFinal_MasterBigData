{
 "cells": [
  {
   "cell_type": "code",
   "execution_count": 1,
   "metadata": {},
   "outputs": [
    {
     "name": "stderr",
     "output_type": "stream",
     "text": [
      "c:\\Users\\Matias\\anaconda3\\lib\\site-packages\\pandas\\core\\computation\\expressions.py:21: UserWarning: Pandas requires version '2.8.4' or newer of 'numexpr' (version '2.8.3' currently installed).\n",
      "  from pandas.core.computation.check import NUMEXPR_INSTALLED\n",
      "c:\\Users\\Matias\\anaconda3\\lib\\site-packages\\pandas\\core\\arrays\\masked.py:60: UserWarning: Pandas requires version '1.3.6' or newer of 'bottleneck' (version '1.3.5' currently installed).\n",
      "  from pandas.core import (\n"
     ]
    }
   ],
   "source": [
    "import numpy as np\n",
    "import pandas as pd\n",
    "import zipfile\n",
    "from scipy.sparse import csr_matrix\n",
    "from implicit.als import AlternatingLeastSquares"
   ]
  },
  {
   "cell_type": "code",
   "execution_count": 1,
   "metadata": {},
   "outputs": [
    {
     "name": "stdout",
     "output_type": "stream",
     "text": [
      "Collecting implicit\n",
      "  Downloading implicit-0.7.2-cp39-cp39-win_amd64.whl (752 kB)\n",
      "     ------------------------------------ 752.1/752.1 kB 312.4 kB/s eta 0:00:00\n",
      "Requirement already satisfied: threadpoolctl in c:\\users\\matias\\anaconda3\\lib\\site-packages (from implicit) (3.5.0)\n",
      "Requirement already satisfied: scipy>=0.16 in c:\\users\\matias\\anaconda3\\lib\\site-packages (from implicit) (1.13.1)\n",
      "Requirement already satisfied: numpy>=1.17.0 in c:\\users\\matias\\anaconda3\\lib\\site-packages (from implicit) (1.24.3)\n",
      "Requirement already satisfied: tqdm>=4.27 in c:\\users\\matias\\anaconda3\\lib\\site-packages (from implicit) (4.66.6)\n",
      "Requirement already satisfied: colorama in c:\\users\\matias\\anaconda3\\lib\\site-packages (from tqdm>=4.27->implicit) (0.4.6)\n",
      "Installing collected packages: implicit\n",
      "Successfully installed implicit-0.7.2\n",
      "Note: you may need to restart the kernel to use updated packages.\n"
     ]
    },
    {
     "name": "stderr",
     "output_type": "stream",
     "text": [
      "WARNING: Ignoring invalid distribution -umpy (c:\\users\\matias\\anaconda3\\lib\\site-packages)\n",
      "WARNING: Ignoring invalid distribution -atplotlib (c:\\users\\matias\\anaconda3\\lib\\site-packages)\n",
      "WARNING: Ignoring invalid distribution -umpy (c:\\users\\matias\\anaconda3\\lib\\site-packages)\n",
      "WARNING: Ignoring invalid distribution -atplotlib (c:\\users\\matias\\anaconda3\\lib\\site-packages)\n",
      "WARNING: Ignoring invalid distribution -umpy (c:\\users\\matias\\anaconda3\\lib\\site-packages)\n",
      "WARNING: Ignoring invalid distribution -atplotlib (c:\\users\\matias\\anaconda3\\lib\\site-packages)\n",
      "WARNING: Ignoring invalid distribution -umpy (c:\\users\\matias\\anaconda3\\lib\\site-packages)\n",
      "WARNING: Ignoring invalid distribution -atplotlib (c:\\users\\matias\\anaconda3\\lib\\site-packages)\n",
      "WARNING: Ignoring invalid distribution -umpy (c:\\users\\matias\\anaconda3\\lib\\site-packages)\n",
      "WARNING: Ignoring invalid distribution -atplotlib (c:\\users\\matias\\anaconda3\\lib\\site-packages)\n",
      "WARNING: Ignoring invalid distribution -umpy (c:\\users\\matias\\anaconda3\\lib\\site-packages)\n",
      "WARNING: Ignoring invalid distribution -atplotlib (c:\\users\\matias\\anaconda3\\lib\\site-packages)\n",
      "WARNING: Ignoring invalid distribution -umpy (c:\\users\\matias\\anaconda3\\lib\\site-packages)\n",
      "WARNING: Ignoring invalid distribution -atplotlib (c:\\users\\matias\\anaconda3\\lib\\site-packages)\n"
     ]
    }
   ],
   "source": [
    "#pip install implicit"
   ]
  },
  {
   "cell_type": "code",
   "execution_count": 2,
   "metadata": {},
   "outputs": [],
   "source": [
    "zip_path = '../00_Data_Bases/Cluster5_1_items.zip' \n",
    "csv_filename = 'Cluster5_1_items.csv'\n",
    "\n",
    "with zipfile.ZipFile(zip_path, 'r') as z:\n",
    "    with z.open(csv_filename) as f:\n",
    "        df = pd.read_csv(f)"
   ]
  },
  {
   "cell_type": "markdown",
   "metadata": {},
   "source": [
    "probar con mas variables"
   ]
  },
  {
   "cell_type": "code",
   "execution_count": 3,
   "metadata": {},
   "outputs": [
    {
     "data": {
      "text/html": [
       "<div>\n",
       "<style scoped>\n",
       "    .dataframe tbody tr th:only-of-type {\n",
       "        vertical-align: middle;\n",
       "    }\n",
       "\n",
       "    .dataframe tbody tr th {\n",
       "        vertical-align: top;\n",
       "    }\n",
       "\n",
       "    .dataframe thead th {\n",
       "        text-align: right;\n",
       "    }\n",
       "</style>\n",
       "<table border=\"1\" class=\"dataframe\">\n",
       "  <thead>\n",
       "    <tr style=\"text-align: right;\">\n",
       "      <th></th>\n",
       "      <th>order_id</th>\n",
       "      <th>user_id</th>\n",
       "      <th>order_number</th>\n",
       "      <th>order_dow</th>\n",
       "      <th>order_hour_of_day</th>\n",
       "      <th>days_since_prior_order</th>\n",
       "      <th>product_id</th>\n",
       "      <th>add_to_cart_order</th>\n",
       "      <th>reordered</th>\n",
       "      <th>department_id</th>\n",
       "      <th>department</th>\n",
       "      <th>product_name</th>\n",
       "      <th>day</th>\n",
       "      <th>order_time_list</th>\n",
       "      <th>max_order</th>\n",
       "      <th>order_number_group</th>\n",
       "      <th>Clusters_5_1_PCA</th>\n",
       "    </tr>\n",
       "  </thead>\n",
       "  <tbody>\n",
       "    <tr>\n",
       "      <th>0</th>\n",
       "      <td>2766469</td>\n",
       "      <td>58222</td>\n",
       "      <td>3</td>\n",
       "      <td>6</td>\n",
       "      <td>11</td>\n",
       "      <td>6.0</td>\n",
       "      <td>53</td>\n",
       "      <td>1</td>\n",
       "      <td>1</td>\n",
       "      <td>16</td>\n",
       "      <td>dairy eggs</td>\n",
       "      <td>cream</td>\n",
       "      <td>Sunday</td>\n",
       "      <td>Morning</td>\n",
       "      <td>3</td>\n",
       "      <td>1-20 order</td>\n",
       "      <td>0</td>\n",
       "    </tr>\n",
       "    <tr>\n",
       "      <th>1</th>\n",
       "      <td>2766469</td>\n",
       "      <td>58222</td>\n",
       "      <td>3</td>\n",
       "      <td>6</td>\n",
       "      <td>11</td>\n",
       "      <td>6.0</td>\n",
       "      <td>86</td>\n",
       "      <td>2</td>\n",
       "      <td>1</td>\n",
       "      <td>16</td>\n",
       "      <td>dairy eggs</td>\n",
       "      <td>eggs</td>\n",
       "      <td>Sunday</td>\n",
       "      <td>Morning</td>\n",
       "      <td>3</td>\n",
       "      <td>1-20 order</td>\n",
       "      <td>0</td>\n",
       "    </tr>\n",
       "    <tr>\n",
       "      <th>2</th>\n",
       "      <td>2766469</td>\n",
       "      <td>58222</td>\n",
       "      <td>3</td>\n",
       "      <td>6</td>\n",
       "      <td>11</td>\n",
       "      <td>6.0</td>\n",
       "      <td>115</td>\n",
       "      <td>3</td>\n",
       "      <td>1</td>\n",
       "      <td>7</td>\n",
       "      <td>beverages</td>\n",
       "      <td>water seltzer sparkling water</td>\n",
       "      <td>Sunday</td>\n",
       "      <td>Morning</td>\n",
       "      <td>3</td>\n",
       "      <td>1-20 order</td>\n",
       "      <td>0</td>\n",
       "    </tr>\n",
       "    <tr>\n",
       "      <th>3</th>\n",
       "      <td>2766469</td>\n",
       "      <td>58222</td>\n",
       "      <td>3</td>\n",
       "      <td>6</td>\n",
       "      <td>11</td>\n",
       "      <td>6.0</td>\n",
       "      <td>120</td>\n",
       "      <td>4</td>\n",
       "      <td>0</td>\n",
       "      <td>16</td>\n",
       "      <td>dairy eggs</td>\n",
       "      <td>yogurt</td>\n",
       "      <td>Sunday</td>\n",
       "      <td>Morning</td>\n",
       "      <td>3</td>\n",
       "      <td>1-20 order</td>\n",
       "      <td>0</td>\n",
       "    </tr>\n",
       "    <tr>\n",
       "      <th>4</th>\n",
       "      <td>2766469</td>\n",
       "      <td>58222</td>\n",
       "      <td>3</td>\n",
       "      <td>6</td>\n",
       "      <td>11</td>\n",
       "      <td>6.0</td>\n",
       "      <td>17</td>\n",
       "      <td>5</td>\n",
       "      <td>0</td>\n",
       "      <td>13</td>\n",
       "      <td>pantry</td>\n",
       "      <td>baking ingredients</td>\n",
       "      <td>Sunday</td>\n",
       "      <td>Morning</td>\n",
       "      <td>3</td>\n",
       "      <td>1-20 order</td>\n",
       "      <td>0</td>\n",
       "    </tr>\n",
       "  </tbody>\n",
       "</table>\n",
       "</div>"
      ],
      "text/plain": [
       "   order_id  user_id  order_number  order_dow  order_hour_of_day  \\\n",
       "0   2766469    58222             3          6                 11   \n",
       "1   2766469    58222             3          6                 11   \n",
       "2   2766469    58222             3          6                 11   \n",
       "3   2766469    58222             3          6                 11   \n",
       "4   2766469    58222             3          6                 11   \n",
       "\n",
       "   days_since_prior_order  product_id  add_to_cart_order  reordered  \\\n",
       "0                     6.0          53                  1          1   \n",
       "1                     6.0          86                  2          1   \n",
       "2                     6.0         115                  3          1   \n",
       "3                     6.0         120                  4          0   \n",
       "4                     6.0          17                  5          0   \n",
       "\n",
       "   department_id  department                   product_name     day  \\\n",
       "0             16  dairy eggs                          cream  Sunday   \n",
       "1             16  dairy eggs                           eggs  Sunday   \n",
       "2              7   beverages  water seltzer sparkling water  Sunday   \n",
       "3             16  dairy eggs                         yogurt  Sunday   \n",
       "4             13      pantry             baking ingredients  Sunday   \n",
       "\n",
       "  order_time_list  max_order order_number_group  Clusters_5_1_PCA  \n",
       "0         Morning          3         1-20 order                 0  \n",
       "1         Morning          3         1-20 order                 0  \n",
       "2         Morning          3         1-20 order                 0  \n",
       "3         Morning          3         1-20 order                 0  \n",
       "4         Morning          3         1-20 order                 0  "
      ]
     },
     "execution_count": 3,
     "metadata": {},
     "output_type": "execute_result"
    }
   ],
   "source": [
    "df.head()"
   ]
  },
  {
   "cell_type": "markdown",
   "metadata": {},
   "source": [
    "### Matriz de Interaccion\n"
   ]
  },
  {
   "cell_type": "code",
   "execution_count": null,
   "metadata": {},
   "outputs": [],
   "source": [
    "# Optimizar la métrica de interacción (score)\n",
    "df[\"score\"] = (\n",
    "    df[\"reordered\"] * 2  # Dar más peso a recompras\n",
    "    + 1  # Sumar 1 a toda interacción\n",
    "    + (df[\"add_to_cart_order\"] <= 5).astype(int)  # Priorizamos productos agregados primero al carrito\n",
    "    + (df[\"days_since_prior_order\"] <= 7).astype(int)  # Priorizamos compras recientes\n",
    ")\n"
   ]
  },
  {
   "cell_type": "code",
   "execution_count": 4,
   "metadata": {},
   "outputs": [],
   "source": [
    "# Filtrar usuarios y productos con interacciones válidas\n",
    "valid_users = df[\"user_id\"].unique()\n",
    "valid_products = df[\"product_id\"].unique()\n",
    "\n",
    "# Crear mapeos asegurando alineación con la matriz\n",
    "user_map = {u: i for i, u in enumerate(valid_users)}\n",
    "item_map = {i: j for j, i in enumerate(valid_products)}\n",
    "\n",
    "# Aplicar mapeo a los datos\n",
    "df[\"user_index\"] = df[\"user_id\"].map(user_map)\n",
    "df[\"item_index\"] = df[\"product_id\"].map(item_map)\n",
    "\n",
    "# Crear la matriz dispersa\n",
    "user_item_matrix = csr_matrix((df[\"score\"], (df[\"user_index\"], df[\"item_index\"])))\n"
   ]
  },
  {
   "cell_type": "code",
   "execution_count": 14,
   "metadata": {},
   "outputs": [
    {
     "name": "stderr",
     "output_type": "stream",
     "text": [
      "c:\\Users\\Matias\\anaconda3\\lib\\site-packages\\implicit\\utils.py:164: ParameterWarning: Method expects CSR input, and was passed csc_matrix instead. Converting to CSR took 0.0019996166229248047 seconds\n",
      "  warnings.warn(\n"
     ]
    },
    {
     "data": {
      "application/vnd.jupyter.widget-view+json": {
       "model_id": "49f3839704b9487a835fe25bda7653ee",
       "version_major": 2,
       "version_minor": 0
      },
      "text/plain": [
       "  0%|          | 0/100 [00:00<?, ?it/s]"
      ]
     },
     "metadata": {},
     "output_type": "display_data"
    }
   ],
   "source": [
    "# Configurar y entrenar el modelo ALS\n",
    "model = AlternatingLeastSquares(\n",
    "    factors=200,        # Más factores para mejorar la representación de usuarios y productos\n",
    "    regularization=0.01, # Regularización más baja para capturar más datos\n",
    "    iterations=100       # Más iteraciones para mejorar la convergencia\n",
    ")\n",
    "\n",
    "model.fit(user_item_matrix.T)\n"
   ]
  },
  {
   "cell_type": "code",
   "execution_count": 15,
   "metadata": {},
   "outputs": [
    {
     "name": "stdout",
     "output_type": "stream",
     "text": [
      "El usuario 177197 no tiene datos suficientes en el modelo.\n"
     ]
    }
   ],
   "source": [
    "# Seleccionar un usuario con más compras (el segundo más frecuente en este caso)\n",
    "user_id = df[\"user_id\"].value_counts().index[1]  \n",
    "user_idx = user_map.get(user_id)  # Convertir user_id a user_index\n",
    "\n",
    "# Crear un diccionario inverso para mapear índices internos a product_id\n",
    "reverse_item_map = {v: k for k, v in item_map.items()}\n",
    "\n",
    "# Verificar que el usuario existe en el modelo y tiene datos en la matriz\n",
    "if user_idx is not None and user_idx < model.user_factors.shape[0]:\n",
    "    if user_item_matrix[user_idx].nnz > 0:  # Verifica que el usuario tiene interacciones\n",
    "        # Generar recomendaciones\n",
    "        item_indices, scores = model.recommend(user_idx, user_item_matrix[user_idx], N=5)\n",
    "\n",
    "        # Convertir índices internos a product_id\n",
    "        recommended_items = [reverse_item_map[i] for i in item_indices if i in reverse_item_map]\n",
    "\n",
    "        print(f\"Recomendaciones para el usuario {user_id}: {recommended_items}\")\n",
    "    else:\n",
    "        print(f\"El usuario {user_id} no tiene suficientes interacciones en la matriz.\")\n",
    "else:\n",
    "    print(f\"El usuario {user_id} no tiene datos suficientes en el modelo.\")\n"
   ]
  },
  {
   "cell_type": "code",
   "execution_count": 17,
   "metadata": {},
   "outputs": [
    {
     "name": "stdout",
     "output_type": "stream",
     "text": [
      "Tamaño del modelo (usuarios entrenados): 134\n",
      "Índice del usuario en el modelo: 11665\n"
     ]
    }
   ],
   "source": [
    "print(f\"Tamaño del modelo (usuarios entrenados): {model.user_factors.shape[0]}\")\n",
    "print(f\"Índice del usuario en el modelo: {user_idx}\")\n",
    "\n"
   ]
  }
 ],
 "metadata": {
  "kernelspec": {
   "display_name": "base",
   "language": "python",
   "name": "python3"
  },
  "language_info": {
   "codemirror_mode": {
    "name": "ipython",
    "version": 3
   },
   "file_extension": ".py",
   "mimetype": "text/x-python",
   "name": "python",
   "nbconvert_exporter": "python",
   "pygments_lexer": "ipython3",
   "version": "3.9.13"
  }
 },
 "nbformat": 4,
 "nbformat_minor": 2
}
