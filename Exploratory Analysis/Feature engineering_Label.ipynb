{
 "cells": [
  {
   "cell_type": "code",
   "execution_count": 49,
   "metadata": {},
   "outputs": [],
   "source": [
    "import pandas as pd\n",
    "import zipfile\n",
    "import numpy as np\n",
    "import seaborn as sns\n",
    "import matplotlib.pyplot as plt\n",
    "import squarify\n",
    "import plotly.express as px\n",
    "from scipy.stats import chi2_contingency\n",
    "import plotly.graph_objects as go\n",
    "from sklearn.cluster import KMeans\n",
    "from sklearn.decomposition import PCA\n",
    "from sklearn.discriminant_analysis import LinearDiscriminantAnalysis"
   ]
  },
  {
   "cell_type": "code",
   "execution_count": 50,
   "metadata": {},
   "outputs": [],
   "source": [
    "zip_path = '../BD/Supermercado.zip' \n",
    "csv_filename = 'Supermercado.csv'\n",
    "\n",
    "with zipfile.ZipFile(zip_path, 'r') as z:\n",
    "    with z.open(csv_filename) as f:\n",
    "        df = pd.read_csv(f)\n"
   ]
  },
  {
   "cell_type": "code",
   "execution_count": 52,
   "metadata": {},
   "outputs": [],
   "source": [
    "pd.set_option('display.float_format', lambda x: '%.2f' % x)"
   ]
  },
  {
   "cell_type": "code",
   "execution_count": 53,
   "metadata": {},
   "outputs": [],
   "source": [
    "week_days = {\n",
    "    0: 'Monday',\n",
    "    1: 'Tuesday',\n",
    "    2: 'Wednesday',\n",
    "    3: 'Thursday',\n",
    "    4: 'Friday',\n",
    "    5: 'Saturday',\n",
    "    6: 'Sunday'\n",
    "}\n",
    "\n",
    "df['day'] = df['order_dow'].map(week_days)"
   ]
  },
  {
   "cell_type": "code",
   "execution_count": 58,
   "metadata": {},
   "outputs": [
    {
     "data": {
      "text/plain": [
       "order_id                       0\n",
       "user_id                        0\n",
       "order_number                   0\n",
       "order_dow                      0\n",
       "order_hour_of_day              0\n",
       "days_since_prior_order    124342\n",
       "product_id                     0\n",
       "add_to_cart_order              0\n",
       "reordered                      0\n",
       "department_id                  0\n",
       "department                     0\n",
       "product_name                   0\n",
       "day                            0\n",
       "dtype: int64"
      ]
     },
     "execution_count": 58,
     "metadata": {},
     "output_type": "execute_result"
    }
   ],
   "source": [
    "df.isnull().sum()"
   ]
  },
  {
   "cell_type": "markdown",
   "metadata": {},
   "source": [
    "Dado que el objetivo es crear un aloritmo de clasificacion, se eliminan las filas nulas del dataset."
   ]
  },
  {
   "cell_type": "code",
   "execution_count": 59,
   "metadata": {},
   "outputs": [],
   "source": [
    "df = df.dropna()"
   ]
  },
  {
   "cell_type": "markdown",
   "metadata": {},
   "source": [
    "Finalmente, se valida de que efectivamente se hayan eliminado los valores nulos."
   ]
  },
  {
   "cell_type": "code",
   "execution_count": 60,
   "metadata": {},
   "outputs": [
    {
     "data": {
      "text/plain": [
       "order_id                  0\n",
       "user_id                   0\n",
       "order_number              0\n",
       "order_dow                 0\n",
       "order_hour_of_day         0\n",
       "days_since_prior_order    0\n",
       "product_id                0\n",
       "add_to_cart_order         0\n",
       "reordered                 0\n",
       "department_id             0\n",
       "department                0\n",
       "product_name              0\n",
       "day                       0\n",
       "dtype: int64"
      ]
     },
     "execution_count": 60,
     "metadata": {},
     "output_type": "execute_result"
    }
   ],
   "source": [
    "df.isnull().sum()"
   ]
  },
  {
   "cell_type": "markdown",
   "metadata": {},
   "source": [
    "Se valida de que no existan valores duplicados en el dataset."
   ]
  },
  {
   "cell_type": "markdown",
   "metadata": {},
   "source": [
    "#### Ventas segun Dia y Momento del Dia"
   ]
  },
  {
   "cell_type": "markdown",
   "metadata": {},
   "source": [
    "Con el objetivo de realizar una segmentación de horarios por parte del día, se procede a realizar un mapeo de horas, agrupandolas por los momentos: \"Morning\", \"Afternoon\", \"Night\" y \"Down\"."
   ]
  },
  {
   "cell_type": "code",
   "execution_count": 66,
   "metadata": {},
   "outputs": [],
   "source": [
    "def order_time(x):\n",
    "    if x in[6, 7, 8, 9, 10, 11, 12]:\n",
    "        return 'Morning'\n",
    "    if x in[13, 14, 15, 16, 17]:\n",
    "        return 'Afternoon'\n",
    "    if x in[18, 19, 20, 21, 22]:\n",
    "        return 'Night'\n",
    "    if x in[23, 24, 0, 1, 2, 3, 4, 5]:\n",
    "        return 'Dawn'\n",
    "    return x"
   ]
  },
  {
   "cell_type": "markdown",
   "metadata": {},
   "source": [
    "Se almacena la el valor de momento del día en la variable \"order_time_list\"."
   ]
  },
  {
   "cell_type": "code",
   "execution_count": 67,
   "metadata": {},
   "outputs": [
    {
     "data": {
      "text/html": [
       "<div>\n",
       "<style scoped>\n",
       "    .dataframe tbody tr th:only-of-type {\n",
       "        vertical-align: middle;\n",
       "    }\n",
       "\n",
       "    .dataframe tbody tr th {\n",
       "        vertical-align: top;\n",
       "    }\n",
       "\n",
       "    .dataframe thead th {\n",
       "        text-align: right;\n",
       "    }\n",
       "</style>\n",
       "<table border=\"1\" class=\"dataframe\">\n",
       "  <thead>\n",
       "    <tr style=\"text-align: right;\">\n",
       "      <th></th>\n",
       "      <th>order_id</th>\n",
       "      <th>user_id</th>\n",
       "      <th>order_number</th>\n",
       "      <th>order_dow</th>\n",
       "      <th>order_hour_of_day</th>\n",
       "      <th>days_since_prior_order</th>\n",
       "      <th>product_id</th>\n",
       "      <th>add_to_cart_order</th>\n",
       "      <th>reordered</th>\n",
       "      <th>department_id</th>\n",
       "      <th>department</th>\n",
       "      <th>product_name</th>\n",
       "      <th>day</th>\n",
       "      <th>order_time_list</th>\n",
       "    </tr>\n",
       "  </thead>\n",
       "  <tbody>\n",
       "    <tr>\n",
       "      <th>645489</th>\n",
       "      <td>1240832</td>\n",
       "      <td>119528</td>\n",
       "      <td>2</td>\n",
       "      <td>1</td>\n",
       "      <td>11</td>\n",
       "      <td>6.00</td>\n",
       "      <td>24</td>\n",
       "      <td>6</td>\n",
       "      <td>0</td>\n",
       "      <td>4</td>\n",
       "      <td>produce</td>\n",
       "      <td>fresh fruits</td>\n",
       "      <td>Tuesday</td>\n",
       "      <td>Morning</td>\n",
       "    </tr>\n",
       "    <tr>\n",
       "      <th>1240307</th>\n",
       "      <td>818556</td>\n",
       "      <td>199521</td>\n",
       "      <td>48</td>\n",
       "      <td>1</td>\n",
       "      <td>8</td>\n",
       "      <td>7.00</td>\n",
       "      <td>24</td>\n",
       "      <td>10</td>\n",
       "      <td>1</td>\n",
       "      <td>4</td>\n",
       "      <td>produce</td>\n",
       "      <td>fresh fruits</td>\n",
       "      <td>Tuesday</td>\n",
       "      <td>Morning</td>\n",
       "    </tr>\n",
       "    <tr>\n",
       "      <th>1062989</th>\n",
       "      <td>1638088</td>\n",
       "      <td>114948</td>\n",
       "      <td>63</td>\n",
       "      <td>3</td>\n",
       "      <td>8</td>\n",
       "      <td>4.00</td>\n",
       "      <td>24</td>\n",
       "      <td>7</td>\n",
       "      <td>1</td>\n",
       "      <td>4</td>\n",
       "      <td>produce</td>\n",
       "      <td>fresh fruits</td>\n",
       "      <td>Thursday</td>\n",
       "      <td>Morning</td>\n",
       "    </tr>\n",
       "    <tr>\n",
       "      <th>1308962</th>\n",
       "      <td>2297954</td>\n",
       "      <td>85458</td>\n",
       "      <td>49</td>\n",
       "      <td>3</td>\n",
       "      <td>6</td>\n",
       "      <td>17.00</td>\n",
       "      <td>120</td>\n",
       "      <td>9</td>\n",
       "      <td>1</td>\n",
       "      <td>16</td>\n",
       "      <td>dairy eggs</td>\n",
       "      <td>yogurt</td>\n",
       "      <td>Thursday</td>\n",
       "      <td>Morning</td>\n",
       "    </tr>\n",
       "    <tr>\n",
       "      <th>1462153</th>\n",
       "      <td>1732715</td>\n",
       "      <td>199485</td>\n",
       "      <td>3</td>\n",
       "      <td>2</td>\n",
       "      <td>14</td>\n",
       "      <td>30.00</td>\n",
       "      <td>21</td>\n",
       "      <td>12</td>\n",
       "      <td>0</td>\n",
       "      <td>16</td>\n",
       "      <td>dairy eggs</td>\n",
       "      <td>packaged cheese</td>\n",
       "      <td>Wednesday</td>\n",
       "      <td>Afternoon</td>\n",
       "    </tr>\n",
       "  </tbody>\n",
       "</table>\n",
       "</div>"
      ],
      "text/plain": [
       "         order_id  user_id  order_number  order_dow  order_hour_of_day  \\\n",
       "645489    1240832   119528             2          1                 11   \n",
       "1240307    818556   199521            48          1                  8   \n",
       "1062989   1638088   114948            63          3                  8   \n",
       "1308962   2297954    85458            49          3                  6   \n",
       "1462153   1732715   199485             3          2                 14   \n",
       "\n",
       "         days_since_prior_order  product_id  add_to_cart_order  reordered  \\\n",
       "645489                     6.00          24                  6          0   \n",
       "1240307                    7.00          24                 10          1   \n",
       "1062989                    4.00          24                  7          1   \n",
       "1308962                   17.00         120                  9          1   \n",
       "1462153                   30.00          21                 12          0   \n",
       "\n",
       "         department_id  department     product_name        day order_time_list  \n",
       "645489               4     produce     fresh fruits    Tuesday         Morning  \n",
       "1240307              4     produce     fresh fruits    Tuesday         Morning  \n",
       "1062989              4     produce     fresh fruits   Thursday         Morning  \n",
       "1308962             16  dairy eggs           yogurt   Thursday         Morning  \n",
       "1462153             16  dairy eggs  packaged cheese  Wednesday       Afternoon  "
      ]
     },
     "execution_count": 67,
     "metadata": {},
     "output_type": "execute_result"
    }
   ],
   "source": [
    "df['order_time_list']=df['order_hour_of_day'].apply(order_time)\n",
    "df.sample(5)"
   ]
  },
  {
   "cell_type": "markdown",
   "metadata": {},
   "source": [
    "#### Segmentacion de Clientes por Cantidad de Ordenes"
   ]
  },
  {
   "cell_type": "markdown",
   "metadata": {},
   "source": [
    "Se maneja la hipótesis de que el comportamiento de los clientes varia según la cantidad de ordenes o compras que realizan a lo largo del período de tiempo de análisis.\n",
    "Por tal motivo, se plantea segmentar en grupos de clientes por cantidad de ordenes realizadas."
   ]
  },
  {
   "cell_type": "code",
   "execution_count": 78,
   "metadata": {},
   "outputs": [],
   "source": [
    "max_order_numbers = df.groupby('user_id')['order_number'].max().reset_index()\n",
    "max_order_numbers.rename(columns={'order_number': 'max_order'}, inplace=True)\n",
    "\n",
    "df = df.merge(max_order_numbers, on='user_id', how='left')"
   ]
  },
  {
   "cell_type": "markdown",
   "metadata": {},
   "source": [
    "El enfoque que se plantea es el de generar 5 grupos de clientes según la cantidad de compras realizadas, comenzando con ordenes entre 1 y 20, y finalizando con el último grupo que posee clientes que realizaron entre 81 y 100 pedidos (siendo 100 el máximo de ordenes realizadas por clientes registradas en el dataset)."
   ]
  },
  {
   "cell_type": "code",
   "execution_count": 79,
   "metadata": {},
   "outputs": [],
   "source": [
    "def order_number_group(x):\n",
    "    if x <= 20:\n",
    "        x = '1-20 order'\n",
    "    elif x >20 and x <=40:\n",
    "        x = '21-40 order'\n",
    "    elif x >40 and x <=60:\n",
    "        x = '41-60 order'\n",
    "    elif x >60 and x <=80:\n",
    "        x = '61-80 order'\n",
    "    else:\n",
    "        x = '81-100 order'\n",
    "    return x"
   ]
  },
  {
   "cell_type": "markdown",
   "metadata": {},
   "source": [
    "Luego de realizar el mapeo de grupos de clientes, se procede a almacenar la variable en la columna 'order_number_group'. "
   ]
  },
  {
   "cell_type": "code",
   "execution_count": 80,
   "metadata": {},
   "outputs": [
    {
     "data": {
      "text/html": [
       "<div>\n",
       "<style scoped>\n",
       "    .dataframe tbody tr th:only-of-type {\n",
       "        vertical-align: middle;\n",
       "    }\n",
       "\n",
       "    .dataframe tbody tr th {\n",
       "        vertical-align: top;\n",
       "    }\n",
       "\n",
       "    .dataframe thead th {\n",
       "        text-align: right;\n",
       "    }\n",
       "</style>\n",
       "<table border=\"1\" class=\"dataframe\">\n",
       "  <thead>\n",
       "    <tr style=\"text-align: right;\">\n",
       "      <th></th>\n",
       "      <th>order_id</th>\n",
       "      <th>user_id</th>\n",
       "      <th>order_number</th>\n",
       "      <th>order_dow</th>\n",
       "      <th>order_hour_of_day</th>\n",
       "      <th>days_since_prior_order</th>\n",
       "      <th>product_id</th>\n",
       "      <th>add_to_cart_order</th>\n",
       "      <th>reordered</th>\n",
       "      <th>department_id</th>\n",
       "      <th>department</th>\n",
       "      <th>product_name</th>\n",
       "      <th>day</th>\n",
       "      <th>order_time_list</th>\n",
       "      <th>max_order</th>\n",
       "      <th>order_number_group</th>\n",
       "    </tr>\n",
       "  </thead>\n",
       "  <tbody>\n",
       "    <tr>\n",
       "      <th>137333</th>\n",
       "      <td>1766913</td>\n",
       "      <td>8359</td>\n",
       "      <td>55</td>\n",
       "      <td>4</td>\n",
       "      <td>9</td>\n",
       "      <td>2.00</td>\n",
       "      <td>31</td>\n",
       "      <td>17</td>\n",
       "      <td>1</td>\n",
       "      <td>7</td>\n",
       "      <td>beverages</td>\n",
       "      <td>refrigerated</td>\n",
       "      <td>Friday</td>\n",
       "      <td>Morning</td>\n",
       "      <td>72</td>\n",
       "      <td>61-80 order</td>\n",
       "    </tr>\n",
       "    <tr>\n",
       "      <th>1785746</th>\n",
       "      <td>1768889</td>\n",
       "      <td>125135</td>\n",
       "      <td>13</td>\n",
       "      <td>6</td>\n",
       "      <td>19</td>\n",
       "      <td>6.00</td>\n",
       "      <td>115</td>\n",
       "      <td>4</td>\n",
       "      <td>1</td>\n",
       "      <td>7</td>\n",
       "      <td>beverages</td>\n",
       "      <td>water seltzer sparkling water</td>\n",
       "      <td>Sunday</td>\n",
       "      <td>Night</td>\n",
       "      <td>13</td>\n",
       "      <td>1-20 order</td>\n",
       "    </tr>\n",
       "    <tr>\n",
       "      <th>665604</th>\n",
       "      <td>416398</td>\n",
       "      <td>43206</td>\n",
       "      <td>35</td>\n",
       "      <td>0</td>\n",
       "      <td>13</td>\n",
       "      <td>1.00</td>\n",
       "      <td>83</td>\n",
       "      <td>4</td>\n",
       "      <td>1</td>\n",
       "      <td>4</td>\n",
       "      <td>produce</td>\n",
       "      <td>fresh vegetables</td>\n",
       "      <td>Monday</td>\n",
       "      <td>Afternoon</td>\n",
       "      <td>82</td>\n",
       "      <td>81-100 order</td>\n",
       "    </tr>\n",
       "    <tr>\n",
       "      <th>1461813</th>\n",
       "      <td>1084891</td>\n",
       "      <td>182101</td>\n",
       "      <td>2</td>\n",
       "      <td>5</td>\n",
       "      <td>20</td>\n",
       "      <td>7.00</td>\n",
       "      <td>96</td>\n",
       "      <td>14</td>\n",
       "      <td>0</td>\n",
       "      <td>20</td>\n",
       "      <td>deli</td>\n",
       "      <td>lunch meat</td>\n",
       "      <td>Saturday</td>\n",
       "      <td>Night</td>\n",
       "      <td>5</td>\n",
       "      <td>1-20 order</td>\n",
       "    </tr>\n",
       "    <tr>\n",
       "      <th>495258</th>\n",
       "      <td>2227487</td>\n",
       "      <td>176923</td>\n",
       "      <td>14</td>\n",
       "      <td>6</td>\n",
       "      <td>13</td>\n",
       "      <td>30.00</td>\n",
       "      <td>98</td>\n",
       "      <td>13</td>\n",
       "      <td>0</td>\n",
       "      <td>7</td>\n",
       "      <td>beverages</td>\n",
       "      <td>juice nectars</td>\n",
       "      <td>Sunday</td>\n",
       "      <td>Afternoon</td>\n",
       "      <td>14</td>\n",
       "      <td>1-20 order</td>\n",
       "    </tr>\n",
       "  </tbody>\n",
       "</table>\n",
       "</div>"
      ],
      "text/plain": [
       "         order_id  user_id  order_number  order_dow  order_hour_of_day  \\\n",
       "137333    1766913     8359            55          4                  9   \n",
       "1785746   1768889   125135            13          6                 19   \n",
       "665604     416398    43206            35          0                 13   \n",
       "1461813   1084891   182101             2          5                 20   \n",
       "495258    2227487   176923            14          6                 13   \n",
       "\n",
       "         days_since_prior_order  product_id  add_to_cart_order  reordered  \\\n",
       "137333                     2.00          31                 17          1   \n",
       "1785746                    6.00         115                  4          1   \n",
       "665604                     1.00          83                  4          1   \n",
       "1461813                    7.00          96                 14          0   \n",
       "495258                    30.00          98                 13          0   \n",
       "\n",
       "         department_id department                   product_name       day  \\\n",
       "137333               7  beverages                   refrigerated    Friday   \n",
       "1785746              7  beverages  water seltzer sparkling water    Sunday   \n",
       "665604               4    produce               fresh vegetables    Monday   \n",
       "1461813             20       deli                     lunch meat  Saturday   \n",
       "495258               7  beverages                  juice nectars    Sunday   \n",
       "\n",
       "        order_time_list  max_order order_number_group  \n",
       "137333          Morning         72        61-80 order  \n",
       "1785746           Night         13         1-20 order  \n",
       "665604        Afternoon         82       81-100 order  \n",
       "1461813           Night          5         1-20 order  \n",
       "495258        Afternoon         14         1-20 order  "
      ]
     },
     "execution_count": 80,
     "metadata": {},
     "output_type": "execute_result"
    }
   ],
   "source": [
    "df['order_number_group']=df['max_order'].apply(order_number_group)\n",
    "df.sample(5)"
   ]
  },
  {
   "cell_type": "markdown",
   "metadata": {},
   "source": [
    "#### Se exporta el DF con los cambios realizados"
   ]
  },
  {
   "cell_type": "code",
   "execution_count": 94,
   "metadata": {},
   "outputs": [],
   "source": [
    "df.to_csv('../BD/Supermercado_mod.csv', index=False)\n",
    "\n",
    "zip_filename = '../BD/Supermercado_mod.zip'\n",
    "csv_filename = '../BD/Supermercado_mod.csv'\n",
    "\n",
    "with zipfile.ZipFile(zip_filename, 'w', compression=zipfile.ZIP_DEFLATED) as zipf:\n",
    "    zipf.write(csv_filename, arcname='Supermercado_mod.csv')"
   ]
  }
 ],
 "metadata": {
  "kernelspec": {
   "display_name": "base",
   "language": "python",
   "name": "python3"
  },
  "language_info": {
   "codemirror_mode": {
    "name": "ipython",
    "version": 3
   },
   "file_extension": ".py",
   "mimetype": "text/x-python",
   "name": "python",
   "nbconvert_exporter": "python",
   "pygments_lexer": "ipython3",
   "version": "3.9.13"
  }
 },
 "nbformat": 4,
 "nbformat_minor": 2
}
